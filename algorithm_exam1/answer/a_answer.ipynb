{
 "cells": [
  {
   "cell_type": "markdown",
   "metadata": {},
   "source": [
    "# 2 倍チェック\n",
    "\n",
    "## 問題文\n",
    "\n",
    "あなたは、3 桁の整数を入力として受け取り、それを 2 倍して出力するプログラムの作成を頼まれた。\n",
    "\n",
    "ところが、どうやらプログラムに入力される文字列 S に英小文字が紛れ込むことがあるようだ。そこで、その場合はエラーを出力することにした。\n",
    "\n",
    "S が 3 桁の整数である場合 (0 で始まる場合を含む) はその 2 倍の値を出力し、そうでなければ error と出力するプログラムを作成せよ。\n",
    "\n",
    "## 制約\n",
    "S は長さ 3 の文字列である。\n",
    "S の各文字は数字または英小文字である。"
   ]
  },
  {
   "cell_type": "markdown",
   "metadata": {},
   "source": [
    "## 入力\n",
    "入力は以下の形式で標準入力から与えられる。\n",
    "\n",
    "    S\n",
    "\n",
    "## 出力\n",
    "問題文で指示された通りに整数または文字列 `error` を出力せよ。"
   ]
  },
  {
   "cell_type": "code",
   "execution_count": 1,
   "metadata": {},
   "outputs": [],
   "source": [
    "def main(S:str) -> str:\n",
    "    if S.isdecimal(): output = str( int(S)*2 )\n",
    "    else: output = \"error\"\n",
    "    # 答えをstring型のoutputとして出力してください\n",
    "    return output"
   ]
  },
  {
   "cell_type": "code",
   "execution_count": 2,
   "metadata": {},
   "outputs": [
    {
     "name": "stdout",
     "output_type": "stream",
     "text": [
      "Answer =  1356 CorrectAnswer = 1356\n",
      "Answer =  error CorrectAnswer = error\n",
      "Answer =  error CorrectAnswer = error\n",
      "Answer =  24 CorrectAnswer = 24\n"
     ]
    }
   ],
   "source": [
    "print( \"Answer = \" ,main(\"678\") , \"CorrectAnswer = 1356\" )\n",
    "print( \"Answer = \" ,main(\"abv\") , \"CorrectAnswer = error\" )\n",
    "print( \"Answer = \" ,main(\"0x08\") , \"CorrectAnswer = error\" ) # 整数として解釈可能な英字を含む文字列もerrorと出力すること\n",
    "print( \"Answer = \" ,main(\"012\") , \"CorrectAnswer = 24\" ) # 0から始まる場合も10進数としてあつかうこと"
   ]
  },
  {
   "cell_type": "code",
   "execution_count": null,
   "metadata": {},
   "outputs": [],
   "source": []
  }
 ],
 "metadata": {
  "kernelspec": {
   "display_name": "Python 3.8.10 ('.venv': poetry)",
   "language": "python",
   "name": "python3"
  },
  "language_info": {
   "codemirror_mode": {
    "name": "ipython",
    "version": 3
   },
   "file_extension": ".py",
   "mimetype": "text/x-python",
   "name": "python",
   "nbconvert_exporter": "python",
   "pygments_lexer": "ipython3",
   "version": "3.8.10"
  },
  "orig_nbformat": 4,
  "vscode": {
   "interpreter": {
    "hash": "5dc3922a1fd2c7bcecd46b35c5d13139ff99701ac15709815543f1d5b08c2b82"
   }
  }
 },
 "nbformat": 4,
 "nbformat_minor": 2
}
