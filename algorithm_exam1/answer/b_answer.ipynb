{
 "cells": [
  {
   "cell_type": "markdown",
   "metadata": {},
   "source": [
    "# 増減管理\n",
    "\n",
    "## 問題文\n",
    "\n",
    "ある商品の$N$日間の売り上げが整数列$A_1,A_2,....A_N$として与えられる。$A_i(1\\leqq i \\leqq N)$がi日目の売り上げを表す。\n",
    "あなたは2日目以降の各日について、その日の売上が前日の売上よりどれだけ高かったか (あるいは低かったか) を出力するプログラムを作成することにした。\n",
    "\n",
    "より具体的には、プログラムは N−1 行のリストを出力し、i 行目$(1\\leqq i \\leqq N)$の内容は次のとおりである\n",
    "\n",
    "- $A_{i+1}$が$A_i$と等しい場合：`stay`\n",
    "- $A_{i+1}$が$A_i$より小さい場合：`down [減少量]`ここで減少量は整数値$A_i - A_{i+1}$\n",
    "- $A_{i+1}$が$A_i$より大きい場合：`up [増加量]`ここで増加量は整数値$A_{i+i} - A_i$\n",
    "\n",
    "## 制約\n",
    "\n",
    "- $2≦N≦100,000$\n",
    "- $0≦A_i≦1,000,000,000$\n",
    "- 入力中の値はすべて整数である。"
   ]
  },
  {
   "cell_type": "markdown",
   "metadata": {},
   "source": [
    "## 入力\n",
    "\n",
    "入力は以下の形式で標準入力から与えられる。\n",
    "\n",
    "    N\n",
    "    A1\n",
    "    ​A2\n",
    "    :\n",
    "    AN\n",
    "\n",
    "## 出力\n",
    "\n",
    "問題文で支持されたとおりにN-1行のリストを出力せよ"
   ]
  },
  {
   "cell_type": "code",
   "execution_count": 1,
   "metadata": {},
   "outputs": [
    {
     "name": "stdout",
     "output_type": "stream",
     "text": [
      "['10', '9', '10', '3', '100', '100', '90', '80', '10', '30', '10']\n",
      "100\n"
     ]
    }
   ],
   "source": [
    "# ここは変えないこと\n",
    "\n",
    "with open(\"../src/b/sample1.txt\", \"r\" ) as sample:\n",
    "    inputs = list(sample.read().split(\"\\n\"))\n",
    "\n",
    "# inputsに上から順に格納されています\n",
    "print(inputs)\n",
    "\n",
    "# inputsからi番目の要素を取り出したいときはinputs[i]として取得できます\n",
    "print(inputs[4])"
   ]
  },
  {
   "cell_type": "code",
   "execution_count": 2,
   "metadata": {},
   "outputs": [],
   "source": [
    "def main(inputs:list) -> list:\n",
    "    N =  len(inputs)\n",
    "    output = []\n",
    "    for i in range( N-1 ):\n",
    "        A_current = int( inputs[i] )\n",
    "        A_next = int( inputs[i+1] )\n",
    "\n",
    "        if A_current == A_next:\n",
    "            output.append(\"stay\")\n",
    "        elif A_current < A_next:\n",
    "            diff = A_next - A_current\n",
    "            output.append(\"up \"+str(diff))\n",
    "        else:\n",
    "            diff = A_current - A_next\n",
    "            output.append(\"down \"+str(diff))\n",
    "    return output"
   ]
  },
  {
   "cell_type": "code",
   "execution_count": 4,
   "metadata": {},
   "outputs": [
    {
     "name": "stdout",
     "output_type": "stream",
     "text": [
      "['down 1', 'up 1', 'down 7', 'up 97', 'stay', 'down 10', 'down 10', 'down 70', 'up 20', 'down 20']\n"
     ]
    }
   ],
   "source": [
    "print( main(inputs) )"
   ]
  },
  {
   "cell_type": "markdown",
   "metadata": {},
   "source": [
    "# 結果確認部分"
   ]
  },
  {
   "cell_type": "code",
   "execution_count": 8,
   "metadata": {},
   "outputs": [
    {
     "name": "stdout",
     "output_type": "stream",
     "text": [
      "正解です\n"
     ]
    }
   ],
   "source": [
    "import pytest\n",
    "\n",
    "expected = [\n",
    "    \"down 1\",\n",
    "    \"up 1\",\n",
    "    \"down 7\",\n",
    "    \"up 97\",\n",
    "    \"stay\",\n",
    "    \"down 10\",\n",
    "    \"down 10\",\n",
    "    \"down 70\",\n",
    "    \"up 20\",\n",
    "    \"down 20\"\n",
    "    ]\n",
    "try :\n",
    "    assert main(inputs) == expected\n",
    "    print(\"正解です\")\n",
    "except:\n",
    "    print(\"不正解です\")"
   ]
  },
  {
   "cell_type": "code",
   "execution_count": null,
   "metadata": {},
   "outputs": [],
   "source": []
  }
 ],
 "metadata": {
  "kernelspec": {
   "display_name": "Python 3.8.10 ('.venv': poetry)",
   "language": "python",
   "name": "python3"
  },
  "language_info": {
   "codemirror_mode": {
    "name": "ipython",
    "version": 3
   },
   "file_extension": ".py",
   "mimetype": "text/x-python",
   "name": "python",
   "nbconvert_exporter": "python",
   "pygments_lexer": "ipython3",
   "version": "3.8.10"
  },
  "orig_nbformat": 4,
  "vscode": {
   "interpreter": {
    "hash": "5dc3922a1fd2c7bcecd46b35c5d13139ff99701ac15709815543f1d5b08c2b82"
   }
  }
 },
 "nbformat": 4,
 "nbformat_minor": 2
}
