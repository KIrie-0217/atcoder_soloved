{
 "cells": [
  {
   "cell_type": "markdown",
   "metadata": {},
   "source": [
    "# 巨大企業"
   ]
  },
  {
   "cell_type": "markdown",
   "metadata": {},
   "source": [
    "## 問題文\n",
    "\n",
    "ある企業には N 人の社員、社員 1,…,N が在籍する。このうち一人は社長であり、上司を持たない。その他の社員はみなちょうど一人の直属の上司を持つ。  \n",
    "あなたのデータベースによると、社員 i (1≦i≦N) の直属の上司は社員 $p_i$である (ただし社員 i が社長である場合は $p_i=−1$ となっている)。この上下関係に循環は存在しない。  \n",
    "\n",
    "このデータを用いて、二つの社員番号 a,b を入力すると社員 a が社員 b の部下であるかを判定するサービスを作りたい。  \n",
    "ここで、社員 a が社員 b の部下であるとは、社員 a から直属の上司を辿っていくことで社員 b に到達できることを意味する。  \n",
    "サービスに入力される Q 個の社員番号の組 ($a_1,b_1),…,(a_Q,b_Q)$が与えられる。  \n",
    "これらのそれぞれに対して Yes または No を出力するプログラムを作成せよ。\n",
    "\n",
    "## 制約\n",
    "\n",
    "- 2≦N≦150,000\n",
    "- 各$i=1,…,N$に対し、$p_i=−1$ または $1 \\leqq p_i \\leqq N$\n",
    "- $p_i=−1$ なる $$ はちょうど 1 つ存在する。\n",
    "- 社員間の上下関係に循環は存在しない。\n",
    "- 1≦Q≦100,000\n",
    "- $1 \\leqq a_i,b_i \\leqq N$\n",
    "- $a_i \\neq b_i$\n",
    "​\n"
   ]
  },
  {
   "cell_type": "markdown",
   "metadata": {},
   "source": [
    "## 入力\n",
    "\n",
    "入力は以下の形式で文字列のリストが与えられる。\n",
    "\n",
    "    [\n",
    "      \"N\",  \n",
    "      \"p1\",  \n",
    "      \"p2\",  \n",
    "      :  \n",
    "      \"pN\",  \n",
    "      \"Q\",  \n",
    "      \"a1 b1\",  \n",
    "      \"a2 b2\",  \n",
    "      :  \n",
    "      \"aQ bQ\",  \n",
    "    ​]  \n"
   ]
  },
  {
   "cell_type": "markdown",
   "metadata": {},
   "source": [
    "## 出力\n",
    "\n",
    "Q 行からなるリストを生成せよ。i 行目 (1≦i≦Q) は、社員 $a_i$が社員$b_i$の部下であれば `Yes`、そうでなければ `No` とすること。"
   ]
  },
  {
   "cell_type": "code",
   "execution_count": 3,
   "metadata": {},
   "outputs": [
    {
     "name": "stdout",
     "output_type": "stream",
     "text": [
      "['7', '-1', '1', '1', '2', '2', '3', '3', '6', '7 1', '4 1', '2 3', '5 1', '5 2', '2 5']\n",
      "2\n"
     ]
    }
   ],
   "source": [
    "# 入力例\n",
    "with open(\"./src/k/sample1.txt\", \"r\" ) as sample:\n",
    "    test1 = list(sample.read().split(\"\\n\"))\n",
    "\n",
    "# inputsに上から順に格納されています\n",
    "print(test1)\n",
    "\n",
    "# inputsからi番目の要素を取り出したいときはinputs[i]として取得できます\n",
    "print(test1[4])"
   ]
  },
  {
   "cell_type": "markdown",
   "metadata": {},
   "source": [
    "# 実装部分"
   ]
  },
  {
   "cell_type": "code",
   "execution_count": null,
   "metadata": {},
   "outputs": [],
   "source": [
    "def main(inputs:list) -> list:\n",
    "\n",
    "    output = []\n",
    "    return output"
   ]
  },
  {
   "cell_type": "markdown",
   "metadata": {},
   "source": [
    "# 回答"
   ]
  },
  {
   "cell_type": "code",
   "execution_count": 4,
   "metadata": {},
   "outputs": [
    {
     "name": "stdout",
     "output_type": "stream",
     "text": [
      "不正解です\n"
     ]
    }
   ],
   "source": [
    "# ここは変えないこと\n",
    "import pytest\n",
    "import random\n",
    "\n",
    "with open(\"./src/k/sample1.txt\", \"r\" ) as sample:\n",
    "    test1 = list(sample.read().split(\"\\n\"))\n",
    "with open(\"./src/k/sample2.txt\", \"r\" ) as sample:\n",
    "    test2 = list(sample.read().split(\"\\n\"))\n",
    "with open(\"./src/k/answer1.txt\", \"r\" ) as sample:\n",
    "    answer1 = list(sample.read().split(\"\\n\"))\n",
    "with open(\"./src/k/answer2.txt\", \"r\" ) as sample:\n",
    "    answer2 = list(sample.read().split(\"\\n\"))\n",
    "\n",
    "expected = [ answer1, answer2 ]\n",
    "\n",
    "try :\n",
    "    assert main(test1) == expected[0]\n",
    "    print(\"テストケース１：正解です\")\n",
    "    assert main(test2) == expected[1]\n",
    "    print(\"テストケース２：正解です\")\n",
    "except: print(\"不正解です\")"
   ]
  },
  {
   "cell_type": "code",
   "execution_count": null,
   "metadata": {},
   "outputs": [],
   "source": []
  }
 ],
 "metadata": {
  "kernelspec": {
   "display_name": "Python 3.8.10 ('.venv': poetry)",
   "language": "python",
   "name": "python3"
  },
  "language_info": {
   "codemirror_mode": {
    "name": "ipython",
    "version": 3
   },
   "file_extension": ".py",
   "mimetype": "text/x-python",
   "name": "python",
   "nbconvert_exporter": "python",
   "pygments_lexer": "ipython3",
   "version": "3.8.10"
  },
  "orig_nbformat": 4,
  "vscode": {
   "interpreter": {
    "hash": "5dc3922a1fd2c7bcecd46b35c5d13139ff99701ac15709815543f1d5b08c2b82"
   }
  }
 },
 "nbformat": 4,
 "nbformat_minor": 2
}
