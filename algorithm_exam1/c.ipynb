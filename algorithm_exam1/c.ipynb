{
 "cells": [
  {
   "cell_type": "markdown",
   "metadata": {},
   "source": [
    "# 3 番目 \n",
    "\n",
    "## 問題文\n",
    "6 つの相異なる整数 $A, B, C, D, E, F $が与えられる。\n",
    "\n",
    "このうち 3 番目に大きい数を調べるプログラムを作成せよ。\n",
    "\n",
    "## 制約\n",
    "\n",
    "- 1≦A,B,C,D,E,F≦100\n",
    "- A,B,C,D,E,F はすべて異なる。\n",
    "- 入力中の値はすべて整数である。"
   ]
  },
  {
   "cell_type": "markdown",
   "metadata": {},
   "source": [
    "## 入力\n",
    "\n",
    "入力は以下の形式のリスト与えられる。\n",
    "\n",
    "``[A,B,C,D,E,F]``\n",
    "\n",
    "## 出力\n",
    "\n",
    "3番目に大きい整数を出力せよ"
   ]
  },
  {
   "cell_type": "code",
   "execution_count": 1,
   "metadata": {},
   "outputs": [],
   "source": [
    "def main(inputs:list) -> int:\n",
    "\n",
    "    output = 0 #整数型で返してください\n",
    "    return output"
   ]
  },
  {
   "cell_type": "code",
   "execution_count": null,
   "metadata": {},
   "outputs": [],
   "source": [
    "import pytest\n",
    "test1 = [4,18,25,20,9,13]\n",
    "test2 = [95,96,97,98,99,100]\n",
    "test3 = [19,92,3,35,78,1]\n",
    "expected = [18,98,35]\n",
    "try :\n",
    "    assert main(test1) == expected[0]\n",
    "    print(\"テストケース１：正解です\")\n",
    "    assert main(test2) == expected[1]\n",
    "    print(\"テストケース２：正解です\")\n",
    "    assert main(test3) == expected[2]\n",
    "    print(\"テストケース３：正解です\")\n",
    "except: print(\"不正解です\")"
   ]
  }
 ],
 "metadata": {
  "kernelspec": {
   "display_name": "Python 3.8.10 ('.venv': poetry)",
   "language": "python",
   "name": "python3"
  },
  "language_info": {
   "codemirror_mode": {
    "name": "ipython",
    "version": 3
   },
   "file_extension": ".py",
   "mimetype": "text/x-python",
   "name": "python",
   "nbconvert_exporter": "python",
   "pygments_lexer": "ipython3",
   "version": "3.8.10"
  },
  "orig_nbformat": 4,
  "vscode": {
   "interpreter": {
    "hash": "5dc3922a1fd2c7bcecd46b35c5d13139ff99701ac15709815543f1d5b08c2b82"
   }
  }
 },
 "nbformat": 4,
 "nbformat_minor": 2
}
