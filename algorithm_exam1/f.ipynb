{
 "cells": [
  {
   "cell_type": "markdown",
   "metadata": {},
   "source": [
    "# DoubleCamelCase Sort"
   ]
  },
  {
   "cell_type": "markdown",
   "metadata": {},
   "source": [
    "## 問題文\n",
    "\n",
    "文字列 S が与えられる。これは、1 つ以上の単語を (間に空白などを挟まずに) 連結したものである。ここで、各単語は 2 文字以上であり、最初の文字と最後の文字のみが英大文字、それ以外の文字は全て英小文字である。\n",
    "\n",
    "これらの単語を辞書順に並べ (大文字小文字の違いは無視する)、同様に連結して出力するプログラムを作成せよ。\n",
    "\n",
    "例えば、S=`FisHDoGCaTAAAaAAbCAC`とする。これは `FisH`, `DoG`, `CaT`, `AA`, `AaA`, `AbC`, `AC` の 7 つの単語を連結したものである。これらを辞書順に並べると `AA`, `AaA`, `AbC`, `AC`, `CaT`, `DoG`, `FisH` となるため、`AAAaAAbCACCaTDoGFisH` と出力すればよい。\n",
    "\n",
    "## 制約\n",
    "- S は長さ 2 以上 100,000 以下の文字列である。\n",
    "- S の各文字は英大文字または英小文字である。\n",
    "- S は問題文で述べたような単語の連結である。"
   ]
  },
  {
   "cell_type": "markdown",
   "metadata": {},
   "source": [
    "## 入力\n",
    "\n",
    "入力は以下の形式で与えられる。\n",
    "\n",
    "    S\n",
    "\n",
    "## 出力\n",
    "\n",
    "問題文で指示された通りの文字列を出力せよ。"
   ]
  },
  {
   "cell_type": "markdown",
   "metadata": {},
   "source": [
    "## 実装部分"
   ]
  },
  {
   "cell_type": "code",
   "execution_count": 1,
   "metadata": {},
   "outputs": [],
   "source": [
    "def main(inputs:str) -> str:\n",
    "    # 何らかの処理\n",
    "    output =\"\"\n",
    "    return output"
   ]
  },
  {
   "cell_type": "markdown",
   "metadata": {},
   "source": [
    "# 回答"
   ]
  },
  {
   "cell_type": "code",
   "execution_count": 2,
   "metadata": {},
   "outputs": [
    {
     "name": "stdout",
     "output_type": "stream",
     "text": [
      "不正解です\n"
     ]
    }
   ],
   "source": [
    "import pytest\n",
    "import random\n",
    "\n",
    "test1 = \"FisHDoGCaTAAAaAAbCAC\"\n",
    "test2 = \"AAAAAjhfgaBCsahdfakGZsZGdEAA\"\n",
    "test3 = \"CanoNNikoNSonYHPEpsoN\"\n",
    "\n",
    "expected = [ \"AAAaAAbCACCaTDoGFisH\", \"AAAAAAAjhfgaBCsahdfakGGdEZsZ\",\"CanoNEpsoNHPNikoNSonY\" ]\n",
    "\n",
    "try :\n",
    "    assert main(test1) == expected[0]\n",
    "    print(\"テストケース１：正解です\")\n",
    "    assert main(test2) == expected[1]\n",
    "    print(\"テストケース２：正解です\")\n",
    "    assert main(test3) == expected[2]\n",
    "    print(\"テストケース３：正解です\")\n",
    "except: print(\"不正解です\")"
   ]
  },
  {
   "cell_type": "code",
   "execution_count": null,
   "metadata": {},
   "outputs": [],
   "source": []
  }
 ],
 "metadata": {
  "kernelspec": {
   "display_name": "Python 3.8.10 ('.venv': poetry)",
   "language": "python",
   "name": "python3"
  },
  "language_info": {
   "codemirror_mode": {
    "name": "ipython",
    "version": 3
   },
   "file_extension": ".py",
   "mimetype": "text/x-python",
   "name": "python",
   "nbconvert_exporter": "python",
   "pygments_lexer": "ipython3",
   "version": "3.8.10"
  },
  "orig_nbformat": 4,
  "vscode": {
   "interpreter": {
    "hash": "5dc3922a1fd2c7bcecd46b35c5d13139ff99701ac15709815543f1d5b08c2b82"
   }
  }
 },
 "nbformat": 4,
 "nbformat_minor": 2
}
