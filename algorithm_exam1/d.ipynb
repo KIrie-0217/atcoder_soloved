{
 "cells": [
  {
   "cell_type": "markdown",
   "metadata": {},
   "source": [
    "# 重複検査"
   ]
  },
  {
   "cell_type": "markdown",
   "metadata": {},
   "source": [
    "## 問題文\n",
    "長さ N の整数列がサーバーに保管されている。つい先ほどまで、この列には 1 から N までの整数が 1 個ずつ含まれていた。\n",
    "\n",
    "しかし、たった今発生したトラブルにより、列のいずれか 1 個の要素が別の 1 以上 N 以下の整数に書き換えられた可能性がある。あるいは、何の書き換えも発生しなかったかもしれない。\n",
    "\n",
    "トラブル発生後の整数列 $A_1,…,A_N$​が与えられる。これを読み込み、書き換えが発生していたかを判定し、発生していた場合にはどの整数がどの整数に書き換えられたかを報告するプログラムを作成せよ。"
   ]
  },
  {
   "cell_type": "markdown",
   "metadata": {},
   "source": [
    "## 制約\n",
    "- 1≦N≦200,000\n",
    "- $1 \\leqq A_i \\leqq N$\n",
    "- $A_1,…,A_N$は問題文中の状況と矛盾しない。"
   ]
  },
  {
   "cell_type": "markdown",
   "metadata": {},
   "source": [
    "## 入力\n",
    "\n",
    "入力は以下のリストで与えられる\n",
    "\n",
    "`[A1,A2,...AN]`\n",
    "\n",
    "## 出力\n",
    "\n",
    "書き換えが発生していなかった場合`Correct`と出力せよ\n",
    "\n",
    "書き換えが発生していた場合、整数 x が整数 y に書き換えられたとして、y と x をこの順にスペース区切りで出力せよ。"
   ]
  },
  {
   "cell_type": "markdown",
   "metadata": {},
   "source": [
    "## 実装部分"
   ]
  },
  {
   "cell_type": "code",
   "execution_count": 1,
   "metadata": {},
   "outputs": [],
   "source": [
    "def main(inputs) -> str:\n",
    "    # 何らかの処理を書く\n",
    "    output = \"Correct\"\n",
    "    return output"
   ]
  },
  {
   "cell_type": "code",
   "execution_count": null,
   "metadata": {},
   "outputs": [],
   "source": [
    "import pytest\n",
    "import random\n",
    "\n",
    "test1 = [1,5,6,3,2,6]\n",
    "test2 = [5,4,3,2,7,6,1]\n",
    "\n",
    "test3 = [ i for i in range(1,200000)]\n",
    "test3_ans_y = test3[10]\n",
    "if test3_ans_y != 0:\n",
    "    test3[10] = test3_ans_y - 1\n",
    "    test3_ans_x = test3[10]\n",
    "else:\n",
    "    test3[10] = 1\n",
    "    test3_ans_x = test3[10]\n",
    "\n",
    "expected = [ \"6 4\", \"Correct\", str(test3_ans_x)+\" \"+str(test3_ans_y) ]\n",
    "try :\n",
    "    assert main(test1) == expected[0]\n",
    "    print(\"テストケース１：正解です\")\n",
    "    assert main(test2) == expected[1]\n",
    "    print(\"テストケース２：正解です\")\n",
    "    assert main(test3) == expected[2]\n",
    "    print(\"テストケース３：正解です\")\n",
    "except: print(\"不正解です\")"
   ]
  }
 ],
 "metadata": {
  "kernelspec": {
   "display_name": "Python 3.8.10 ('.venv': poetry)",
   "language": "python",
   "name": "python3"
  },
  "language_info": {
   "codemirror_mode": {
    "name": "ipython",
    "version": 3
   },
   "file_extension": ".py",
   "mimetype": "text/x-python",
   "name": "python",
   "nbconvert_exporter": "python",
   "pygments_lexer": "ipython3",
   "version": "3.8.10"
  },
  "orig_nbformat": 4,
  "vscode": {
   "interpreter": {
    "hash": "5dc3922a1fd2c7bcecd46b35c5d13139ff99701ac15709815543f1d5b08c2b82"
   }
  }
 },
 "nbformat": 4,
 "nbformat_minor": 2
}
